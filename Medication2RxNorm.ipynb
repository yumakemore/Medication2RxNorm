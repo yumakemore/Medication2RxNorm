{
  "nbformat": 4,
  "nbformat_minor": 0,
  "metadata": {
    "colab": {
      "name": "Medication2RxNorm.ipynb",
      "provenance": [],
      "collapsed_sections": [],
      "toc_visible": true,
      "include_colab_link": true
    },
    "kernelspec": {
      "name": "python3",
      "display_name": "Python 3"
    }
  },
  "cells": [
    {
      "cell_type": "markdown",
      "metadata": {
        "id": "view-in-github",
        "colab_type": "text"
      },
      "source": [
        "<a href=\"https://colab.research.google.com/github/yumakemore/Medication2RxNorm/blob/master/Medication2RxNorm.ipynb\" target=\"_parent\"><img src=\"https://colab.research.google.com/assets/colab-badge.svg\" alt=\"Open In Colab\"/></a>"
      ]
    },
    {
      "cell_type": "markdown",
      "metadata": {
        "id": "wXOcaGpgncP5",
        "colab_type": "text"
      },
      "source": [
        "# Medication2RxNorm\n",
        "\n",
        "Byunggu Yu, Ph.D.\n",
        "\n",
        "April 2, 2020\n",
        "\n",
        "Your medication records in your csv file are augmented with clean medication concept names and standard Rx codes and all other properties from RxNorm through approximate name search. All added fields are named with name_prefix \"M2RxNorm_\" (you can change this) in the output csv file. \n",
        "\n",
        "Input: Your own csv file containing medication records with medication names (e.g., zocor 10 mg) from arbitrary sources. Note: the first line of the csv file must be comma-separated column (field) names.\n",
        "\n",
        "Output: <your file name>-m2rxnorm.csv containing clean standard names and various standard codes (e.g., NDA code) and all other properties from RxNorm. All added fields are named with prefix \"M2RxNorm_\" in the output csv file. \n",
        "\n",
        "\n",
        "\n"
      ]
    },
    {
      "cell_type": "code",
      "metadata": {
        "id": "EVsm-WzZngDO",
        "colab_type": "code",
        "colab": {}
      },
      "source": [
        "import pandas as pd\n",
        "import sys\n",
        "\n",
        "waittime=61\n",
        "name_prefix=\"M2RxNorm_\"\n"
      ],
      "execution_count": 0,
      "outputs": []
    },
    {
      "cell_type": "markdown",
      "metadata": {
        "id": "wB8pkJzAoTTb",
        "colab_type": "text"
      },
      "source": [
        "\n",
        "\n",
        "Read Medication Events (event_csv.csv) into a Pandas DataFrame (event_df);\n",
        "Read Medication Concepts (concept_csv.csv) into a Pandas DataFrame (concept_df)."
      ]
    },
    {
      "cell_type": "code",
      "metadata": {
        "id": "jQA-2smPw5MO",
        "colab_type": "code",
        "colab": {}
      },
      "source": [
        "import datetime\n",
        "\n",
        "# Path to the data file\n",
        "location = input(\"Enter your csv file name with path or url (e.g., ./medrecords.csv):\\n\")\n",
        "\n",
        "# data loading\n",
        "record_df = pd.read_csv(location, sep=',')\n",
        "\n",
        "#Check out the data\n",
        "pd.set_option('display.max_columns', None)\n",
        "pd.set_option('display.width', 2000)\n",
        "pd.set_option('display.max_rows', None)\n",
        "print(\"---Data Fields---\\n\")\n",
        "print(record_df.dtypes,\"\\n\")\n",
        "print(\"---First 5 Rows---\\n\")\n",
        "print(record_df.head(),\"\\n\")\n",
        "print(\"---Last 5 Rows---\\n\")\n",
        "print(record_df.tail())"
      ],
      "execution_count": 0,
      "outputs": []
    },
    {
      "cell_type": "markdown",
      "metadata": {
        "id": "Z1yVN95XfrCF",
        "colab_type": "text"
      },
      "source": [
        "Add standard codes and name from RxNorm through approximate search"
      ]
    },
    {
      "cell_type": "code",
      "metadata": {
        "id": "FytF7VcvhF-L",
        "colab_type": "code",
        "colab": {}
      },
      "source": [
        "import requests\n",
        "import json\n",
        "\n",
        "def ApproximateName2RxNorm(approximate_name):\n",
        "  #e.g., approximate_name=\"zocor 10 mg\"\n",
        "  name_in_url=approximate_name.replace(' ','%20')\n",
        "  TermRequest = \"https://rxnav.nlm.nih.gov/REST/approximateTerm.json?term=\"+name_in_url+\"&maxEntries=1\"\n",
        "\n",
        "  resp = requests.get(TermRequest)\n",
        "  if resp.status_code != 200:\n",
        "      # something went wrong\n",
        "      raise ApiError('GET /tasks/ {}'.format(resp.status_code))\n",
        "\n",
        "\n",
        "  items = resp.json()\n",
        "  rxcui=[]\n",
        "  rxcui_approximateTerm_score=[]\n",
        "  rxcui_attributes_text=[]\n",
        "  rxcui_attributes_json=[]\n",
        "  for item in items['approximateGroup']['candidate']:\n",
        "    rxcui.append(item['rxcui'])\n",
        "    rxcui_request = \"https://rxnav.nlm.nih.gov/REST/rxcui/\"+item['rxcui']+\"/allProperties.json?prop=all\"\n",
        "    rxcui_resp = requests.get(rxcui_request)\n",
        "    if rxcui_resp.status_code != 200:\n",
        "      # something went wrong\n",
        "      raise ApiError('GET /tasks/ {}'.format(rxcui_resp.status_code))\n",
        "\n",
        "    rxcui_attributes_text.append(rxcui_resp.text)\n",
        "    rxcui_attributes_json.append(rxcui_resp.json())\n",
        "    rxcui_approximateTerm_score.append(item['score'])\n",
        "\n",
        "  selected_concept=-1\n",
        "  for i in range(0,len(rxcui_attributes_json)):\n",
        "    for j in range(0, len(rxcui_attributes_json[i]['propConceptGroup']['propConcept'])):\n",
        "      if rxcui_attributes_json[i]['propConceptGroup']['propConcept'][j]['propName']==\"NDA\":\n",
        "        selected_concept=i\n",
        "        break\n",
        "    if selected_concept != -1: break\n",
        "\n",
        "  return rxcui_attributes_json[selected_concept], rxcui_approximateTerm_score[selected_concept]\n",
        "    "
      ],
      "execution_count": 0,
      "outputs": []
    },
    {
      "cell_type": "code",
      "metadata": {
        "id": "dxMk9zpbf-d_",
        "colab_type": "code",
        "colab": {}
      },
      "source": [
        "import time\n",
        "\n",
        "# Path to the data file\n",
        "field_name = input(\"Enter the name of the medication name field in your csv file:\\n\")\n",
        "\n",
        "print(\"Before RxNorm: \\n\", record_df.head())\n",
        "for index, row in record_df.iterrows():\n",
        "  Myname = row[field_name]\n",
        "  Myname = Myname.replace(\"[\",\"(\").replace(\"]\",\")\")\n",
        "  print(\"\\n... Treating Record No. \",index,\"/\",len(record_df),\": an ApproximateName Search on RxNorm for \",Myname, \" ...\\n\")\n",
        "  rxdone=0\n",
        "  while rxdone==0:\n",
        "    try:\n",
        "      RxNormData, score =ApproximateName2RxNorm(Myname)\n",
        "      rxdone=1\n",
        "    except:\n",
        "      print(\"ERRO...retrying after sleeping \", waittime, \"sec...\")\n",
        "      print(\"(Note: if this error persists, try to manually clean this specific medication name shown above and re-run MedicationRecords2RxNorm.)\\n\")\n",
        "      time.sleep(waittime)\n",
        "\n",
        "  record_df.at[index, name_prefix+'Similarity_Score']=score\n",
        "  for j in range(0, len(RxNormData['propConceptGroup']['propConcept'])):\n",
        "    record_df.at[index, name_prefix+RxNormData['propConceptGroup']['propConcept'][j]['propName']]=RxNormData['propConceptGroup']['propConcept'][j]['propValue']\n",
        "print(\"After RxNorm: \\n\", record_df.head())\n"
      ],
      "execution_count": 0,
      "outputs": []
    },
    {
      "cell_type": "markdown",
      "metadata": {
        "id": "_ikSVgIbCVCl",
        "colab_type": "text"
      },
      "source": [
        "Write the output file"
      ]
    },
    {
      "cell_type": "code",
      "metadata": {
        "id": "XAQcNlHjCZSp",
        "colab_type": "code",
        "colab": {}
      },
      "source": [
        "record_df.to_csv(location+\"-m2rxnorm.csv\")"
      ],
      "execution_count": 0,
      "outputs": []
    }
  ]
}